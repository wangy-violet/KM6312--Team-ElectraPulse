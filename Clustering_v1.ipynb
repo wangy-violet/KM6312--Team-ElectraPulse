{
 "cells": [
  {
   "cell_type": "code",
   "execution_count": 1,
   "metadata": {},
   "outputs": [
    {
     "data": {
      "text/html": [
       "<div>\n",
       "<style scoped>\n",
       "    .dataframe tbody tr th:only-of-type {\n",
       "        vertical-align: middle;\n",
       "    }\n",
       "\n",
       "    .dataframe tbody tr th {\n",
       "        vertical-align: top;\n",
       "    }\n",
       "\n",
       "    .dataframe thead th {\n",
       "        text-align: right;\n",
       "    }\n",
       "</style>\n",
       "<table border=\"1\" class=\"dataframe\">\n",
       "  <thead>\n",
       "    <tr style=\"text-align: right;\">\n",
       "      <th></th>\n",
       "      <th>url</th>\n",
       "      <th>twitterUrl</th>\n",
       "      <th>id</th>\n",
       "      <th>text</th>\n",
       "      <th>retweetCount</th>\n",
       "      <th>replyCount</th>\n",
       "      <th>likeCount</th>\n",
       "      <th>quoteCount</th>\n",
       "      <th>createdAt</th>\n",
       "      <th>bookmarkCount</th>\n",
       "      <th>isRetweet</th>\n",
       "      <th>isQuote</th>\n",
       "      <th>location</th>\n",
       "      <th>full_text_lower</th>\n",
       "      <th>stopword</th>\n",
       "      <th>full_text_clean</th>\n",
       "      <th>punct_token</th>\n",
       "      <th>lemma</th>\n",
       "    </tr>\n",
       "  </thead>\n",
       "  <tbody>\n",
       "    <tr>\n",
       "      <th>0</th>\n",
       "      <td>https://x.com/heyreb2020/status/18550272497091...</td>\n",
       "      <td>https://twitter.com/heyreb2020/status/18550272...</td>\n",
       "      <td>1855027249709191424</td>\n",
       "      <td>President @realDonaldTrump should do exactly w...</td>\n",
       "      <td>0</td>\n",
       "      <td>0</td>\n",
       "      <td>1</td>\n",
       "      <td>0</td>\n",
       "      <td>Fri Nov 08 23:18:55 +0000 2024</td>\n",
       "      <td>0</td>\n",
       "      <td>False</td>\n",
       "      <td>False</td>\n",
       "      <td>Whitney, NV</td>\n",
       "      <td>president @realdonaldtrump should do exactly w...</td>\n",
       "      <td>president @realdonaldtrump exactly @thedemocra...</td>\n",
       "      <td>['president', 'realdonaldtrump', 'exactly', 't...</td>\n",
       "      <td>['president', 'realdonaldtrump', 'exactly', 't...</td>\n",
       "      <td>president realdonaldtrump exactly thedemocrats...</td>\n",
       "    </tr>\n",
       "    <tr>\n",
       "      <th>1</th>\n",
       "      <td>https://x.com/BookofJahJah/status/185502312813...</td>\n",
       "      <td>https://twitter.com/BookofJahJah/status/185502...</td>\n",
       "      <td>1855023128130523392</td>\n",
       "      <td>One last grasp to insert Kamala somewhere huh ...</td>\n",
       "      <td>0</td>\n",
       "      <td>0</td>\n",
       "      <td>0</td>\n",
       "      <td>0</td>\n",
       "      <td>Fri Nov 08 23:02:33 +0000 2024</td>\n",
       "      <td>0</td>\n",
       "      <td>False</td>\n",
       "      <td>True</td>\n",
       "      <td>Where The Air Gets Cold</td>\n",
       "      <td>one last grasp to insert kamala somewhere huh ...</td>\n",
       "      <td>one last grasp insert kamala somewhere huh 😏 #...</td>\n",
       "      <td>['one', 'last', 'grasp', 'insert', 'kamala', '...</td>\n",
       "      <td>['one', 'last', 'grasp', 'insert', 'kamala', '...</td>\n",
       "      <td>one last grasp insert kamala somewhere huh bla...</td>\n",
       "    </tr>\n",
       "    <tr>\n",
       "      <th>2</th>\n",
       "      <td>https://x.com/patricia_kooy/status/18550171952...</td>\n",
       "      <td>https://twitter.com/patricia_kooy/status/18550...</td>\n",
       "      <td>1855017195299831808</td>\n",
       "      <td>I'm in favor of ALL the Lefty, Liberal, Female...</td>\n",
       "      <td>1</td>\n",
       "      <td>0</td>\n",
       "      <td>2</td>\n",
       "      <td>0</td>\n",
       "      <td>Fri Nov 08 22:38:58 +0000 2024</td>\n",
       "      <td>0</td>\n",
       "      <td>False</td>\n",
       "      <td>True</td>\n",
       "      <td>Michigan, USA</td>\n",
       "      <td>i'm in favor of all the lefty, liberal, female...</td>\n",
       "      <td>i'm favor lefty, liberal, female feminists sha...</td>\n",
       "      <td>['i', 'm', 'favor', 'lefty', 'liberal', 'femal...</td>\n",
       "      <td>['i', 'm', 'favor', 'lefty', 'liberal', 'femal...</td>\n",
       "      <td>i m favor lefty liberal female feminist shave ...</td>\n",
       "    </tr>\n",
       "    <tr>\n",
       "      <th>3</th>\n",
       "      <td>https://x.com/arveela/status/1855015202426621976</td>\n",
       "      <td>https://twitter.com/arveela/status/18550152024...</td>\n",
       "      <td>1855015202426621952</td>\n",
       "      <td>@kristenmag Maybe from #Walz's daughter or who...</td>\n",
       "      <td>0</td>\n",
       "      <td>0</td>\n",
       "      <td>0</td>\n",
       "      <td>0</td>\n",
       "      <td>Fri Nov 08 22:31:03 +0000 2024</td>\n",
       "      <td>0</td>\n",
       "      <td>False</td>\n",
       "      <td>False</td>\n",
       "      <td>Florida, USA</td>\n",
       "      <td>@kristenmag maybe from #walz's daughter or who...</td>\n",
       "      <td>@kristenmag maybe #walz's daughter whoever tho...</td>\n",
       "      <td>['kristenmag', 'maybe', 'walz', 's', 'daughter...</td>\n",
       "      <td>['kristenmag', 'maybe', 'walz', 's', 'daughter...</td>\n",
       "      <td>kristenmag maybe walz s daughter whoever thoug...</td>\n",
       "    </tr>\n",
       "    <tr>\n",
       "      <th>4</th>\n",
       "      <td>https://x.com/jillbroderick/status/18550130148...</td>\n",
       "      <td>https://twitter.com/jillbroderick/status/18550...</td>\n",
       "      <td>1855013014841262336</td>\n",
       "      <td>Wordle 1,238 5/6\\n\\n⬛⬛⬛⬛🟨\\n⬛🟨🟨⬛⬛\\n⬛🟨⬛🟨🟨\\n🟨🟩🟩🟨🟩...</td>\n",
       "      <td>0</td>\n",
       "      <td>0</td>\n",
       "      <td>0</td>\n",
       "      <td>0</td>\n",
       "      <td>Fri Nov 08 22:22:21 +0000 2024</td>\n",
       "      <td>0</td>\n",
       "      <td>False</td>\n",
       "      <td>False</td>\n",
       "      <td>NaN</td>\n",
       "      <td>wordle 1,238 5/6\\n\\n⬛⬛⬛⬛🟨\\n⬛🟨🟨⬛⬛\\n⬛🟨⬛🟨🟨\\n🟨🟩🟩🟨🟩...</td>\n",
       "      <td>wordle 1,238 5/6 ⬛⬛⬛⬛🟨 ⬛🟨🟨⬛⬛ ⬛🟨⬛🟨🟨 🟨🟩🟩🟨🟩 🟩🟩🟩🟩🟩...</td>\n",
       "      <td>['wordle', 'not', 'raids', 'started']</td>\n",
       "      <td>['wordle', 'not', 'raids', 'started']</td>\n",
       "      <td>wordle not raid start</td>\n",
       "    </tr>\n",
       "  </tbody>\n",
       "</table>\n",
       "</div>"
      ],
      "text/plain": [
       "                                                 url  \\\n",
       "0  https://x.com/heyreb2020/status/18550272497091...   \n",
       "1  https://x.com/BookofJahJah/status/185502312813...   \n",
       "2  https://x.com/patricia_kooy/status/18550171952...   \n",
       "3   https://x.com/arveela/status/1855015202426621976   \n",
       "4  https://x.com/jillbroderick/status/18550130148...   \n",
       "\n",
       "                                          twitterUrl                   id  \\\n",
       "0  https://twitter.com/heyreb2020/status/18550272...  1855027249709191424   \n",
       "1  https://twitter.com/BookofJahJah/status/185502...  1855023128130523392   \n",
       "2  https://twitter.com/patricia_kooy/status/18550...  1855017195299831808   \n",
       "3  https://twitter.com/arveela/status/18550152024...  1855015202426621952   \n",
       "4  https://twitter.com/jillbroderick/status/18550...  1855013014841262336   \n",
       "\n",
       "                                                text  retweetCount  \\\n",
       "0  President @realDonaldTrump should do exactly w...             0   \n",
       "1  One last grasp to insert Kamala somewhere huh ...             0   \n",
       "2  I'm in favor of ALL the Lefty, Liberal, Female...             1   \n",
       "3  @kristenmag Maybe from #Walz's daughter or who...             0   \n",
       "4  Wordle 1,238 5/6\\n\\n⬛⬛⬛⬛🟨\\n⬛🟨🟨⬛⬛\\n⬛🟨⬛🟨🟨\\n🟨🟩🟩🟨🟩...             0   \n",
       "\n",
       "   replyCount  likeCount  quoteCount                       createdAt  \\\n",
       "0           0          1           0  Fri Nov 08 23:18:55 +0000 2024   \n",
       "1           0          0           0  Fri Nov 08 23:02:33 +0000 2024   \n",
       "2           0          2           0  Fri Nov 08 22:38:58 +0000 2024   \n",
       "3           0          0           0  Fri Nov 08 22:31:03 +0000 2024   \n",
       "4           0          0           0  Fri Nov 08 22:22:21 +0000 2024   \n",
       "\n",
       "   bookmarkCount  isRetweet  isQuote                  location  \\\n",
       "0              0      False    False               Whitney, NV   \n",
       "1              0      False     True  Where The Air Gets Cold    \n",
       "2              0      False     True             Michigan, USA   \n",
       "3              0      False    False              Florida, USA   \n",
       "4              0      False    False                       NaN   \n",
       "\n",
       "                                     full_text_lower  \\\n",
       "0  president @realdonaldtrump should do exactly w...   \n",
       "1  one last grasp to insert kamala somewhere huh ...   \n",
       "2  i'm in favor of all the lefty, liberal, female...   \n",
       "3  @kristenmag maybe from #walz's daughter or who...   \n",
       "4  wordle 1,238 5/6\\n\\n⬛⬛⬛⬛🟨\\n⬛🟨🟨⬛⬛\\n⬛🟨⬛🟨🟨\\n🟨🟩🟩🟨🟩...   \n",
       "\n",
       "                                            stopword  \\\n",
       "0  president @realdonaldtrump exactly @thedemocra...   \n",
       "1  one last grasp insert kamala somewhere huh 😏 #...   \n",
       "2  i'm favor lefty, liberal, female feminists sha...   \n",
       "3  @kristenmag maybe #walz's daughter whoever tho...   \n",
       "4  wordle 1,238 5/6 ⬛⬛⬛⬛🟨 ⬛🟨🟨⬛⬛ ⬛🟨⬛🟨🟨 🟨🟩🟩🟨🟩 🟩🟩🟩🟩🟩...   \n",
       "\n",
       "                                     full_text_clean  \\\n",
       "0  ['president', 'realdonaldtrump', 'exactly', 't...   \n",
       "1  ['one', 'last', 'grasp', 'insert', 'kamala', '...   \n",
       "2  ['i', 'm', 'favor', 'lefty', 'liberal', 'femal...   \n",
       "3  ['kristenmag', 'maybe', 'walz', 's', 'daughter...   \n",
       "4              ['wordle', 'not', 'raids', 'started']   \n",
       "\n",
       "                                         punct_token  \\\n",
       "0  ['president', 'realdonaldtrump', 'exactly', 't...   \n",
       "1  ['one', 'last', 'grasp', 'insert', 'kamala', '...   \n",
       "2  ['i', 'm', 'favor', 'lefty', 'liberal', 'femal...   \n",
       "3  ['kristenmag', 'maybe', 'walz', 's', 'daughter...   \n",
       "4              ['wordle', 'not', 'raids', 'started']   \n",
       "\n",
       "                                               lemma  \n",
       "0  president realdonaldtrump exactly thedemocrats...  \n",
       "1  one last grasp insert kamala somewhere huh bla...  \n",
       "2  i m favor lefty liberal female feminist shave ...  \n",
       "3  kristenmag maybe walz s daughter whoever thoug...  \n",
       "4                              wordle not raid start  "
      ]
     },
     "execution_count": 1,
     "metadata": {},
     "output_type": "execute_result"
    }
   ],
   "source": [
    "import pandas as pd\n",
    "\n",
    "# 读取数据\n",
    "df = pd.read_csv(\"cleaned_tweets.csv\")\n",
    "df.head()"
   ]
  },
  {
   "cell_type": "code",
   "execution_count": 2,
   "metadata": {},
   "outputs": [
    {
     "name": "stdout",
     "output_type": "stream",
     "text": [
      "<class 'pandas.core.frame.DataFrame'>\n",
      "RangeIndex: 87358 entries, 0 to 87357\n",
      "Data columns (total 18 columns):\n",
      " #   Column           Non-Null Count  Dtype \n",
      "---  ------           --------------  ----- \n",
      " 0   url              87358 non-null  object\n",
      " 1   twitterUrl       87358 non-null  object\n",
      " 2   id               87358 non-null  int64 \n",
      " 3   text             87358 non-null  object\n",
      " 4   retweetCount     87358 non-null  int64 \n",
      " 5   replyCount       87358 non-null  int64 \n",
      " 6   likeCount        87358 non-null  int64 \n",
      " 7   quoteCount       87358 non-null  int64 \n",
      " 8   createdAt        87358 non-null  object\n",
      " 9   bookmarkCount    87358 non-null  int64 \n",
      " 10  isRetweet        87358 non-null  bool  \n",
      " 11  isQuote          87358 non-null  bool  \n",
      " 12  location         60082 non-null  object\n",
      " 13  full_text_lower  87358 non-null  object\n",
      " 14  stopword         87358 non-null  object\n",
      " 15  full_text_clean  87358 non-null  object\n",
      " 16  punct_token      87358 non-null  object\n",
      " 17  lemma            87310 non-null  object\n",
      "dtypes: bool(2), int64(6), object(10)\n",
      "memory usage: 10.8+ MB\n"
     ]
    }
   ],
   "source": [
    "df.info()"
   ]
  },
  {
   "cell_type": "code",
   "execution_count": 3,
   "metadata": {},
   "outputs": [],
   "source": [
    "df = df.dropna(subset=['lemma'])"
   ]
  },
  {
   "cell_type": "code",
   "execution_count": 4,
   "metadata": {},
   "outputs": [
    {
     "data": {
      "text/plain": [
       "0        president realdonaldtrump exactly thedemocrats...\n",
       "1        one last grasp insert kamala somewhere huh bla...\n",
       "2        favor lefty liberal female feminist shave head...\n",
       "3        kristenmag maybe walz daughter whoever thought...\n",
       "4                                        wordle raid start\n",
       "                               ...                        \n",
       "87353    dont understand wtf bydone talk im muslim im i...\n",
       "87354                             donaldjtrumpjr hilarious\n",
       "87355    wooo already tell dominate dominate convo onli...\n",
       "87356                 national guard send dem crazy wypipo\n",
       "87357                     trump avoid question try lie smh\n",
       "Name: lemma, Length: 87310, dtype: object"
      ]
     },
     "execution_count": 4,
     "metadata": {},
     "output_type": "execute_result"
    }
   ],
   "source": [
    "from nltk.corpus import stopwords\n",
    "\n",
    "stop=stopwords.words('english')\n",
    "# 增加停用词\n",
    "additional_stop = ['rt','amp','http','https']\n",
    "\n",
    "stop.extend(additional_stop)\n",
    "\n",
    "df['lemma']=df['lemma'].apply(lambda x: ' '.join([word for word in x.split() if word not in stop]))\n",
    "\n",
    "df['lemma']"
   ]
  },
  {
   "cell_type": "code",
   "execution_count": 5,
   "metadata": {},
   "outputs": [
    {
     "data": {
      "text/plain": [
       "(87310, 1000)"
      ]
     },
     "execution_count": 5,
     "metadata": {},
     "output_type": "execute_result"
    }
   ],
   "source": [
    "from sklearn.feature_extraction.text import TfidfVectorizer\n",
    "\n",
    "# 转化为TF-IDF\n",
    "vectorizer = TfidfVectorizer(max_features=1000, stop_words='english')  # 1000个特征\n",
    "tfidf_matrix = vectorizer.fit_transform(df['lemma'])\n",
    "\n",
    "tfidf_matrix.shape"
   ]
  },
  {
   "cell_type": "markdown",
   "metadata": {},
   "source": [
    "数据量太大，计算时间过长，采用MiniBatchKMeans加速"
   ]
  },
  {
   "cell_type": "code",
   "execution_count": 4,
   "metadata": {},
   "outputs": [],
   "source": [
    "# 子采样\n",
    "# sample_fraction = 0.2\n",
    "# sampled_lemmas = lemmas.sample(frac=sample_fraction, random_state=42)\n",
    "\n",
    "# tfidf_matrix_sampled = vectorizer.fit_transform(sampled_lemmas)"
   ]
  },
  {
   "cell_type": "code",
   "execution_count": 6,
   "metadata": {},
   "outputs": [],
   "source": [
    "from sklearn.cluster import MiniBatchKMeans\n",
    "import matplotlib.pyplot as plt\n",
    "\n",
    "# 使用肘部法则来选择 K 值\n",
    "inertia = []\n",
    "K_range = range(1, 20)\n",
    "for k in K_range:\n",
    "    kmeans = MiniBatchKMeans(n_clusters=k, random_state=42, batch_size=1000)\n",
    "    kmeans.fit(tfidf_matrix)\n",
    "    inertia.append(kmeans.inertia_)"
   ]
  },
  {
   "cell_type": "code",
   "execution_count": 7,
   "metadata": {},
   "outputs": [
    {
     "data": {
      "image/png": "[encoded data removed]",
      "text/plain": [
       "<Figure size 720x360 with 1 Axes>"
      ]
     },
     "metadata": {
      "needs_background": "light"
     },
     "output_type": "display_data"
    }
   ],
   "source": [
    "# 绘制肘部法则图\n",
    "plt.figure(figsize=(10, 5))\n",
    "plt.plot(K_range, inertia, 'bo-')\n",
    "plt.xlabel('Number of clusters')\n",
    "plt.ylabel('Inertia')\n",
    "plt.title('Elbow Method For Optimal k')\n",
    "plt.show()"
   ]
  },
  {
   "cell_type": "code",
   "execution_count": 8,
   "metadata": {},
   "outputs": [],
   "source": [
    "# 根据肘部法则图选择 K 值\n",
    "K = 6\n",
    "# 应用 Mini-batch K-means 聚类\n",
    "kmeans = MiniBatchKMeans(n_clusters=K, random_state=42, batch_size=1000)\n",
    "df['cluster'] = kmeans.fit_predict(tfidf_matrix)"
   ]
  },
  {
   "cell_type": "code",
   "execution_count": 9,
   "metadata": {},
   "outputs": [
    {
     "data": {
      "image/png": "[encoded data removed]",
      "text/plain": [
       "<Figure size 720x432 with 1 Axes>"
      ]
     },
     "metadata": {
      "needs_background": "light"
     },
     "output_type": "display_data"
    }
   ],
   "source": [
    "# 主题识别 使用 PCA 降维以便可视化\n",
    "from sklearn.decomposition import PCA\n",
    "\n",
    "pca = PCA(n_components=2)\n",
    "X_pca = pca.fit_transform(tfidf_matrix.toarray())\n",
    "df['pca1'] = X_pca[:, 0]\n",
    "df['pca2'] = X_pca[:, 1]\n",
    "\n",
    "# 可视化聚类结果\n",
    "plt.figure(figsize=(10, 6))\n",
    "for cluster in range(K):\n",
    "    plt.scatter(df[df['cluster'] == cluster]['pca1'], df[df['cluster'] == cluster]['pca2'], label=f'Cluster {cluster}')\n",
    "plt.xlabel('PCA Component 1')\n",
    "plt.ylabel('PCA Component 2')\n",
    "plt.title('Mini-batch K-means Clustering of Text')\n",
    "plt.legend()\n",
    "plt.show()"
   ]
  },
  {
   "cell_type": "code",
   "execution_count": 11,
   "metadata": {},
   "outputs": [
    {
     "name": "stdout",
     "output_type": "stream",
     "text": [
      "Cluster 0:\n",
      "  - shout realdonaldtrump elonmusk joerogan guy make best timeline live time alive besttimeline maga\n",
      "  - donaldtnews trump maga let make america great listen song spotify apple amazon deezer pandora tube etc watch music video apple vevo tidal tube etc\n",
      "  - trump maga let make america great listen song spotify apple amazon deezer pandora tube etc watch music video apple vevo tidal tube etc co\n",
      "  - afraid project agenda go hard make america great maga\n",
      "  - make america great presidentialelection americadecides roadtothewhitehouse usapolitics yourvotematters futureofamerica co\n",
      "\n",
      "\n",
      "Cluster 1:\n",
      "  - atmu estimate eps slight dip last year could one watch also bolt cn pcrcf might reach orbit sooner expect lyft wbd vale f nicetwomeatuxlingorm biden bluewave\n",
      "  - important netanyahu biden harris dismantle int law facilitate israel gazagenocide knowing expose country threat name trump palestiniangenocide co qplwixruga co fascism gaza\n",
      "  - cooked meme election viral explore trumpassassination trump shooter rally miss president biden democrat republican anime funny darkmeme jjk gojo shounen toji jfk co\n",
      "  - medium headline biden console democrat remind republican poll fair read co bidenconsolesdemocrats pollsarefair republican electionresults electionintegrity uspolitics bidenmessage\n",
      "  - finger point adviser vice president harris president biden agree one thing president elect trump victory one fault co\n",
      "\n",
      "\n",
      "Cluster 2:\n",
      "  - ai forecast gpt mention presidential debate emphasize grow influence tech politics thought ai\n",
      "  - link co maga donaldjtrump presidentialdebate debate usaelections trumpwins trumpvictory trumpsupporters frenchfries fastfood fry frenchfrieslovers co\n",
      "  - botswana decide presidential debate spark real conversation election day near future botswana hand read co segaredigital votewisely co\n",
      "  - botswana decide read botswana decides debate could sway vote co co\n",
      "  - love debate expose unsmooth man tlhola appear slick rally cos one opposing\n",
      "\n",
      "\n",
      "Cluster 3:\n",
      "  - president realdonaldtrump exactly thedemocrats want expand supreme court imagine mind blown democrats gop republican co\n",
      "  - one last grasp insert kamala somewhere huh blackmenforharris\n",
      "  - favor lefty liberal female feminist shave head also continue wear mouth mask get corona virus booster maybe get tattoo forehead well\n",
      "  - kristenmag maybe walz daughter whoever thought would good idea run campaign like campaign\n",
      "  - wordle raid start\n",
      "\n",
      "\n",
      "Cluster 4:\n",
      "  - lamr eps forecast look bullish play one also bolt cn pcrcf might look new pt upgrade soon anet tost dkng net linglingnngfirstmeet pennsylvania co\n",
      "  - anomaly look sus ngl co uwttesqfzg\n",
      "  - cnnsotu abc air american get one last look side side side claim victory let america decide co\n",
      "  - sad yeeps feel sorry even good comedy expect legacy medium really fun comedy janet yellen look lovely always tragic liberal co ikhwniclaz\n",
      "  - thisweekabc abc air american get one last look side side side claim victory let america decide co\n",
      "\n",
      "\n",
      "Cluster 5:\n",
      "  - narrative trump massively red wave b trump literally voter wi mi pa flip trump harris oversee genocide break biden talk blue wave freepalestine\n",
      "  - trump president never president never president fact president co\n",
      "  - break president biden harris loose donald trump win european union say hell buy oil russia till holistic development ukraine zelensky eu putin news politics watch co sfrhldtdtv\n",
      "  - co co israel iraniansstandwithtrump hezbollah analysis newsnight report trump exclusive iran half israelis support strike iran iran respond poll hebrew newspaper maariv entitle mood israeli society report say half israelis support launch preemptive strike iran second israeli strike want half israeli iran responds percent israeli believe wait iranian response examine iranian response decide respond percent israeli answer toughness diplomacy trump deal iran wall street journal trump form team deal iran move quickly target iranian oil export trump new team move quickly try pursue foreign port trader deal iranian oil restore strategy adopt trump first term president trump adopts economic method deal dispute country especially iran first term us president elect pursued policy know maximum pressure iran may repeat time well us president trump plan significantly increase sanction iran reduce oil sale part strategy aim undermining tehran support proxy middle east nuclear program mutual desire iran united state ease tension difference reach deal deal major challenge ultimately appropriate option tehran strategy priorities new us administration begin united state seek prevent iran harm interest ally region iran several option either respond militarily within next two month choose escalatory alternative strengthen nuclear missile program also seek way support ceasefire agreement gaza may seek achieve settlement lebanon trump assume presidency trump seek improve economic situation unite state enhance global investment environment iran consider ideal base achieve goal iran abandon ally region way fact united state want iran abandon ally united state need conflict country region order justify presence continuity region iran hesitate respond israel circumstance confirm today iranian foreign minister araghchi say interview german magazine spiegel seek escalate tension region consider right respond israeli aggression act accord interest axj independent analysis iranian design launch military strike israel come day trump mission stop war arab world easy task trump face obstacle problem side\n",
      "  - new evidence donald trump fascist trumpmeltdown trump\n",
      "\n",
      "\n"
     ]
    }
   ],
   "source": [
    "# 打印每个聚类的主题\n",
    "for cluster in range(K):\n",
    "    print(f\"Cluster {cluster}:\")\n",
    "    cluster_texts = df[df['cluster'] == cluster]['lemma']\n",
    "    for text in cluster_texts[:5]:  # 打印每个聚类的前5个文本\n",
    "        print(f\"  - {text}\")\n",
    "    print(\"\\n\")"
   ]
  },
  {
   "cell_type": "code",
   "execution_count": 29,
   "metadata": {},
   "outputs": [
    {
     "name": "stdout",
     "output_type": "stream",
     "text": [
      "Cluster 0 Top Keywords: ['america', 'co', 'great', 'follow', 'maga', 'make', 'trump', 'thank', 'back', 'realdonaldtrump']\n",
      "Cluster 1 Top Keywords: ['biden', 'co', 'trump', 'joe', 'president', 'democrat', 'joebiden', 'uselections', 'harris', 'say']\n",
      "Cluster 2 Top Keywords: ['debate', 'co', 'trump', 'biden', 'presidential', 'presidentialdebate', 'debatenight', 'harris', 'watch', 'cnn']\n",
      "Cluster 3 Top Keywords: ['co', 'vote', 'trump', 'kamalaharris', 'get', 'election', 'us', 'go', 'people', 'uselections']\n",
      "Cluster 4 Top Keywords: ['look', 'like', 'co', 'trump', 'biden', 'make', 'debate', 'get', 'president', 'go']\n",
      "Cluster 5 Top Keywords: ['trump', 'co', 'donald', 'president', 'kamala', 'harris', 'donaldtrump', 'kamalaharris', 'election', 'win']\n"
     ]
    }
   ],
   "source": [
    "# 分析每个聚类\n",
    "from collections import Counter\n",
    "\n",
    "def get_top_keywords(cluster_texts, vectorizer, k=10):\n",
    "    word_count = Counter(\" \".join(cluster_texts).split())\n",
    "    return [word for word, _ in word_count.most_common(k)]\n",
    "\n",
    "cluster_keywords = {}\n",
    "for cluster_id in range(6):\n",
    "    cluster_texts = df[df['cluster'] == cluster_id]['lemma']\n",
    "    top_keywords = get_top_keywords(cluster_texts, vectorizer)\n",
    "    cluster_keywords[cluster_id] = top_keywords\n",
    "    print(f\"Cluster {cluster_id} Top Keywords: {top_keywords}\")"
   ]
  },
  {
   "cell_type": "code",
   "execution_count": 30,
   "metadata": {},
   "outputs": [
    {
     "name": "stdout",
     "output_type": "stream",
     "text": [
      "Cluster 0 Top Keywords: ['america', 'great', 'follow', 'maga', 'make', 'trump', 'thank', 'back', 'realdonaldtrump', 'fight']\n",
      "Cluster 1 Top Keywords: ['biden', 'trump', 'joe', 'president', 'democrat', 'joebiden', 'uselections', 'harris', 'say', 'kamala']\n",
      "Cluster 2 Top Keywords: ['debate', 'trump', 'biden', 'presidential', 'presidentialdebate', 'debatenight', 'harris', 'watch', 'cnn', 'kamala']\n",
      "Cluster 3 Top Keywords: ['vote', 'trump', 'kamalaharris', 'get', 'election', 'go', 'people', 'uselections', 'say', 'president']\n",
      "Cluster 4 Top Keywords: ['look', 'like', 'trump', 'biden', 'make', 'debate', 'get', 'president', 'go', 'say']\n",
      "Cluster 5 Top Keywords: ['trump', 'donald', 'president', 'kamala', 'harris', 'donaldtrump', 'kamalaharris', 'election', 'win', 'uselections']\n"
     ]
    }
   ],
   "source": [
    "# 去除干扰词\n",
    "remove_words = ['co','us']\n",
    "\n",
    "df['removed']=df['lemma'].apply(lambda x: ' '.join([word for word in x.split() if word not in remove_words]))\n",
    "cluster_keywords = {}\n",
    "for cluster_id in range(6):\n",
    "    cluster_texts = df[df['cluster'] == cluster_id]['removed']\n",
    "    top_keywords = get_top_keywords(cluster_texts, vectorizer)\n",
    "    cluster_keywords[cluster_id] = top_keywords\n",
    "    print(f\"Cluster {cluster_id} Top Keywords: {top_keywords}\")"
   ]
  },
  {
   "cell_type": "markdown",
   "metadata": {},
   "source": [
    "Cluster 0: Pro-Trump Sentiment\n",
    "\n",
    "Cluster 1: Biden and Presidential Election\n",
    "\n",
    "Cluster 2: Presidential Debates\n",
    "\n",
    "Cluster 3: Voting and Election Engagement\n",
    "\n",
    "Cluster 4: General Political Discussion\n",
    "\n",
    "Cluster 5: Election Outcome and Trump"
   ]
  },
  {
   "cell_type": "code",
   "execution_count": 31,
   "metadata": {},
   "outputs": [],
   "source": [
    "# 为每个聚类命名\n",
    "cluster_names = {\n",
    "    0: \"Pro-Trump Sentiment\",\n",
    "    1: \"Biden and Presidential Election\",\n",
    "    2: \"Presidential Debates\",\n",
    "    3: \"Voting and Election Engagement\",\n",
    "    4: \"General Political Discussion\",\n",
    "    5: \"Election Outcome and Trump\"\n",
    "}\n",
    "\n",
    "# 将聚类名称添加到 DataFrame\n",
    "df['cluster_name'] = df['cluster'].map(cluster_names)"
   ]
  },
  {
   "cell_type": "code",
   "execution_count": 32,
   "metadata": {},
   "outputs": [],
   "source": [
    "# 保存结果\n",
    "df.to_csv('clustered_tweets.csv', index=False)"
   ]
  },
  {
   "cell_type": "code",
   "execution_count": null,
   "metadata": {},
   "outputs": [],
   "source": []
  }
 ],
 "metadata": {
  "kernelspec": {
   "display_name": "Python 3",
   "language": "python",
   "name": "python3"
  },
  "language_info": {
   "codemirror_mode": {
    "name": "ipython",
    "version": 3
   },
   "file_extension": ".py",
   "mimetype": "text/x-python",
   "name": "python",
   "nbconvert_exporter": "python",
   "pygments_lexer": "ipython3",
   "version": "3.7.4"
  }
 },
 "nbformat": 4,
 "nbformat_minor": 2
}
